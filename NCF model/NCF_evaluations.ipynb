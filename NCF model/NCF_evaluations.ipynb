{
 "cells": [
  {
   "cell_type": "code",
   "execution_count": 1,
   "id": "925e79e9-66ea-42a3-b09e-51c902e99b74",
   "metadata": {},
   "outputs": [],
   "source": [
    "#import necessary library\n",
    "import numpy as np\n",
    "import pandas as pd\n",
    "from tqdm import tqdm\n",
    "import os\n",
    "import pickle\n",
    "import matplotlib.pyplot as plt\n",
    "from mpl_toolkits.mplot3d import Axes3D"
   ]
  },
  {
   "cell_type": "code",
   "execution_count": 2,
   "id": "93de0dc3-8365-4e2c-8a1a-ca6ad794cf92",
   "metadata": {},
   "outputs": [
    {
     "data": {
      "text/html": [
       "<div>\n",
       "<style scoped>\n",
       "    .dataframe tbody tr th:only-of-type {\n",
       "        vertical-align: middle;\n",
       "    }\n",
       "\n",
       "    .dataframe tbody tr th {\n",
       "        vertical-align: top;\n",
       "    }\n",
       "\n",
       "    .dataframe thead th {\n",
       "        text-align: right;\n",
       "    }\n",
       "</style>\n",
       "<table border=\"1\" class=\"dataframe\">\n",
       "  <thead>\n",
       "    <tr style=\"text-align: right;\">\n",
       "      <th></th>\n",
       "      <th>pid</th>\n",
       "      <th>track_id</th>\n",
       "      <th>label</th>\n",
       "    </tr>\n",
       "  </thead>\n",
       "  <tbody>\n",
       "    <tr>\n",
       "      <th>0</th>\n",
       "      <td>102312</td>\n",
       "      <td>310283</td>\n",
       "      <td>1</td>\n",
       "    </tr>\n",
       "    <tr>\n",
       "      <th>1</th>\n",
       "      <td>14157</td>\n",
       "      <td>26349</td>\n",
       "      <td>1</td>\n",
       "    </tr>\n",
       "    <tr>\n",
       "      <th>2</th>\n",
       "      <td>113235</td>\n",
       "      <td>312440</td>\n",
       "      <td>1</td>\n",
       "    </tr>\n",
       "    <tr>\n",
       "      <th>3</th>\n",
       "      <td>129834</td>\n",
       "      <td>20220</td>\n",
       "      <td>1</td>\n",
       "    </tr>\n",
       "    <tr>\n",
       "      <th>4</th>\n",
       "      <td>124700</td>\n",
       "      <td>16483</td>\n",
       "      <td>1</td>\n",
       "    </tr>\n",
       "  </tbody>\n",
       "</table>\n",
       "</div>"
      ],
      "text/plain": [
       "      pid  track_id  label\n",
       "0  102312    310283      1\n",
       "1   14157     26349      1\n",
       "2  113235    312440      1\n",
       "3  129834     20220      1\n",
       "4  124700     16483      1"
      ]
     },
     "execution_count": 2,
     "metadata": {},
     "output_type": "execute_result"
    }
   ],
   "source": [
    "test_DF = pd.read_csv(\"/home/jupyter/test_DF.csv\", sep = \"\\t\", encoding= \"utf-8\")\n",
    "test_DF.head()"
   ]
  },
  {
   "cell_type": "code",
   "execution_count": 3,
   "id": "02841022-38ac-45e0-8a45-8d84e8e712b5",
   "metadata": {},
   "outputs": [],
   "source": [
    "def makeDF(testDF, predictionsDF): #wrap everything into a pandas dataframe. easier to analyse\n",
    "    pred_df = pd.DataFrame({\n",
    "    'user_id': np.array(testDF['pid']),\n",
    "    'item_id': np.array(testDF[\"track_id\"]),\n",
    "    'prediction': predictionsDF.flatten()\n",
    "    })\n",
    "    return pred_df"
   ]
  },
  {
   "cell_type": "markdown",
   "id": "bb3fc4c4-6e32-4c5e-86cb-92ef23a6e9a1",
   "metadata": {},
   "source": [
    "topk_HR is a function to compute the hit rate for the top k items recommended by our model. NCF model output is an array of probability, hence we have to define a threshold which is a hyperparameter to convert the probability output to be binary. Then, since the test set is made of all user item pairs that have labels as 1 so we just compute the number of classified 1 over the total number of tracks correspoded to the pid. We then take the mean of HR of all pid. "
   ]
  },
  {
   "cell_type": "code",
   "execution_count": 4,
   "id": "8e6f40cd-076d-4a96-b855-da0463ffad3a",
   "metadata": {},
   "outputs": [],
   "source": [
    "def topk_HR(predicted_DF, K, thresholds):\n",
    "    sorted_predictions = predicted_DF.groupby('user_id').apply(lambda x: x.sort_values(by='prediction', ascending=False)).reset_index(drop=True)\n",
    "    topk_recommendations = sorted_predictions.groupby('user_id').head(K) #top k recommendations for each user\n",
    "    toFilter = topk_recommendations.copy() #make a copy of the dataframe in case we accidentally mutate the origanal dataframe\n",
    "    toFilter.loc[:, 'label'] = (toFilter['prediction'] > thresholds).astype(int) #if the prediction is greater than the threshold, label it as 1, else 0\n",
    "    hit_count = toFilter.groupby('user_id')['label'].agg([('hit_rate', lambda x: sum(x == 1))]).reset_index() #count the number of 1s for each user\n",
    "    hit_count['HR'] = hit_count['hit_rate'].apply(lambda x: x/K) #calculate the hit rate\n",
    "    HRvalue = hit_count['HR'].mean() #`calculate the average hit rate across all users \n",
    "    return HRvalue"
   ]
  },
  {
   "cell_type": "markdown",
   "id": "5d564fa0-0770-42cd-8211-d9a8fe2b586b",
   "metadata": {},
   "source": [
    "$DCG = \\sum_{i=1}^k{\\frac{rel_i}{log_2(i+1)}}$   \n",
    "IDCG is the maximum possible DCG value, which is obtained by sorting the $rel_i$ and then calculating the DCG.   \n",
    "NDCG = DCG/IDCG"
   ]
  },
  {
   "cell_type": "code",
   "execution_count": 5,
   "id": "43d5591c-33e1-4296-94c7-2b017fdcdcdc",
   "metadata": {},
   "outputs": [],
   "source": [
    "def dcg_at_k(r, k):\n",
    "    r = np.asarray(r)[:k]\n",
    "    return np.sum(r / np.log2(np.arange(2, len(r) + 2))) #follow the formula above\n",
    "\n",
    "def ndcg_at_k(r, k):\n",
    "    dcg_max = dcg_at_k(sorted(r, reverse=True), k) #sort the relevance score in descending order and calculate the dcg_max\n",
    "    if not dcg_max: #if dcg_max is 0, return 0 to prevent dividing by 0\n",
    "        return 0.0\n",
    "    return dcg_at_k(r, k) / dcg_max #calculate the ndcg\n",
    "\n",
    "def average_ndcg(predicted_df, k, threshold):\n",
    "    ndcg_values = []\n",
    "    for user_id in predicted_df['user_id'].unique(): #for each user, calculate the ndcg \n",
    "        user_data = predicted_df[predicted_df['user_id'] == user_id] #get the data for that user\n",
    "        relevance = (user_data['prediction'] > threshold).astype(int).tolist() #get the relevance score for that user\n",
    "        ndcg_values.append(ndcg_at_k(relevance, k)) #calculate the ndcg for that user and append it to the list\n",
    "    avg_ndcg = np.mean(ndcg_values) #calculate the average ndcg across all users\n",
    "    return avg_ndcg"
   ]
  },
  {
   "cell_type": "code",
   "execution_count": 6,
   "id": "419583cc-4655-4c64-b825-54ebaedcdbf9",
   "metadata": {},
   "outputs": [],
   "source": [
    "latent_prediction = []\n",
    "list_direc = os.listdir(\"/home/jupyter/model_results/\") #we had save the reults into file system hence exact path required\n",
    "for direct in list_direc:\n",
    "    if direct.startswith('latent') and direct.endswith('npy'): #npy file stores prediction array. \n",
    "        path = '/home/jupyter/model_results/' + direct\n",
    "        basename, _ = direct.split(\".\")\n",
    "        fread = np.load(path) #laod data\n",
    "        latent_prediction.append({str(basename): fread})"
   ]
  },
  {
   "cell_type": "code",
   "execution_count": 7,
   "id": "6624ddf4-cb3f-48c6-b472-75d8ff2ade9a",
   "metadata": {},
   "outputs": [],
   "source": [
    "prediction_df_dict = {} #create a dictionary to store the prediction dataframe\n",
    "for dict_ in latent_prediction:\n",
    "    for key, value in dict_.items():\n",
    "        df = makeDF(testDF = test_DF, predictionsDF = value)   #make a dataframe for each prediction\n",
    "        prediction_df_dict[key] = df"
   ]
  },
  {
   "cell_type": "code",
   "execution_count": 9,
   "id": "237db3f9-7cdb-4b9e-9e7f-8a97bccd3cc3",
   "metadata": {},
   "outputs": [
    {
     "data": {
      "text/plain": [
       "{'latent_64':         user_id  item_id  prediction\n",
       " 0        102312   310283    0.674561\n",
       " 1         14157    26349    0.996863\n",
       " 2        113235   312440    0.983125\n",
       " 3        129834    20220    0.016977\n",
       " 4        124700    16483    0.959838\n",
       " ...         ...      ...         ...\n",
       " 324559      811   376698    0.000121\n",
       " 324560   127557   375764    0.480609\n",
       " 324561   127461   376554    0.997244\n",
       " 324562   125860    42605    0.931885\n",
       " 324563   105350    76964    0.990336\n",
       " \n",
       " [324564 rows x 3 columns],\n",
       " 'latent_8':         user_id  item_id  prediction\n",
       " 0        102312   310283    0.933719\n",
       " 1         14157    26349    0.981995\n",
       " 2        113235   312440    0.594253\n",
       " 3        129834    20220    0.308550\n",
       " 4        124700    16483    0.960283\n",
       " ...         ...      ...         ...\n",
       " 324559      811   376698    0.000013\n",
       " 324560   127557   375764    0.995463\n",
       " 324561   127461   376554    0.958120\n",
       " 324562   125860    42605    0.723493\n",
       " 324563   105350    76964    0.991421\n",
       " \n",
       " [324564 rows x 3 columns],\n",
       " 'latent_32':         user_id  item_id  prediction\n",
       " 0        102312   310283    0.908284\n",
       " 1         14157    26349    0.104301\n",
       " 2        113235   312440    0.860991\n",
       " 3        129834    20220    0.245501\n",
       " 4        124700    16483    0.953446\n",
       " ...         ...      ...         ...\n",
       " 324559      811   376698    0.000289\n",
       " 324560   127557   375764    0.850874\n",
       " 324561   127461   376554    0.967692\n",
       " 324562   125860    42605    0.971018\n",
       " 324563   105350    76964    0.997141\n",
       " \n",
       " [324564 rows x 3 columns],\n",
       " 'latent_128':         user_id  item_id  prediction\n",
       " 0        102312   310283    0.707838\n",
       " 1         14157    26349    0.972935\n",
       " 2        113235   312440    0.638993\n",
       " 3        129834    20220    0.004671\n",
       " 4        124700    16483    0.998638\n",
       " ...         ...      ...         ...\n",
       " 324559      811   376698    0.000315\n",
       " 324560   127557   375764    0.819162\n",
       " 324561   127461   376554    0.997490\n",
       " 324562   125860    42605    0.969050\n",
       " 324563   105350    76964    0.999420\n",
       " \n",
       " [324564 rows x 3 columns],\n",
       " 'latent_16':         user_id  item_id  prediction\n",
       " 0        102312   310283    0.866249\n",
       " 1         14157    26349    0.758937\n",
       " 2        113235   312440    0.966014\n",
       " 3        129834    20220    0.001032\n",
       " 4        124700    16483    0.944677\n",
       " ...         ...      ...         ...\n",
       " 324559      811   376698    0.000120\n",
       " 324560   127557   375764    0.917244\n",
       " 324561   127461   376554    0.992758\n",
       " 324562   125860    42605    0.995020\n",
       " 324563   105350    76964    0.991593\n",
       " \n",
       " [324564 rows x 3 columns]}"
      ]
     },
     "execution_count": 9,
     "metadata": {},
     "output_type": "execute_result"
    }
   ],
   "source": [
    "prediction_df_dict "
   ]
  },
  {
   "cell_type": "code",
   "execution_count": 10,
   "id": "cf16a341-9e08-48cc-864f-f3099a799eb4",
   "metadata": {},
   "outputs": [
    {
     "name": "stderr",
     "output_type": "stream",
     "text": [
      "100%|██████████| 18/18 [06:17<00:00, 20.97s/it]\n"
     ]
    }
   ],
   "source": [
    "k_values = np.arange(10, 100, 5) \n",
    "threshold_values = np.arange(0.5, 0.95, 0.05)\n",
    "kList, thresholdList = np.meshgrid(k_values, threshold_values)\n",
    "HRL = np.empty_like(kList, dtype=float)\n",
    "\n",
    "for i, k in enumerate(tqdm(k_values)):\n",
    "    for j, threshold in enumerate(threshold_values):\n",
    "        HRL[j, i] = topk_HR(prediction_df_dict['latent_64'], k, threshold) #calculate the hit rate for each combination of k and threshold\n"
   ]
  },
  {
   "cell_type": "markdown",
   "id": "25a5ed58-e86c-4dd1-9667-a5c748b92022",
   "metadata": {},
   "source": [
    "## Plot hit rate against threshold and k. "
   ]
  },
  {
   "cell_type": "code",
   "execution_count": 11,
   "id": "73343d97-2f06-4e83-b39d-460a7067a51f",
   "metadata": {},
   "outputs": [
    {
     "data": {
      "image/png": "[encoded data removed]",
      "text/plain": [
       "<Figure size 640x480 with 2 Axes>"
      ]
     },
     "metadata": {},
     "output_type": "display_data"
    }
   ],
   "source": [
    "fig = plt.figure()\n",
    "ax = fig.add_subplot(111, projection='3d')\n",
    "norm = plt.Normalize(HRL.min(), HRL.max())\n",
    "colors = plt.cm.viridis(norm(HRL))\n",
    "\n",
    "surf = ax.plot_surface(kList, thresholdList, HRL, facecolors=colors, shade=True)\n",
    "m = plt.cm.ScalarMappable(cmap=plt.cm.viridis, norm=norm)\n",
    "m.set_array(HRL)\n",
    "fig.colorbar(m, shrink=0.8)\n",
    "\n",
    "ax.set_xlabel('K-axis label')\n",
    "ax.set_ylabel('Threshold-axis label')\n",
    "ax.set_zlabel('HRL-axis label')\n",
    "ax.set_title('Hit rate against K and threshold')\n",
    "\n",
    "plt.show()"
   ]
  },
  {
   "cell_type": "markdown",
   "id": "788683f2-4b27-416a-833d-7dae97d73399",
   "metadata": {},
   "source": [
    "all the numerical results are stored in another csv file for better presentation. "
   ]
  },
  {
   "cell_type": "code",
   "execution_count": 12,
   "id": "1df5dca9-7bc2-4ceb-98d9-1533e3e71a8a",
   "metadata": {},
   "outputs": [],
   "source": [
    "MLP_prediction = []\n",
    "list_direc = os.listdir(\"/home/jupyter/model_results/\")\n",
    "for direct in list_direc:\n",
    "    if direct.startswith('MLP') and direct.endswith('npy'):\n",
    "        path = '/home/jupyter/model_results/' + direct\n",
    "        basename, _ = direct.split(\".\")\n",
    "        fread = np.load(path)\n",
    "        MLP_prediction.append({str(basename): fread})"
   ]
  },
  {
   "cell_type": "code",
   "execution_count": 13,
   "id": "f26f28ce-3fd9-4a7e-ba34-121fac8275eb",
   "metadata": {},
   "outputs": [],
   "source": [
    "prediction_df_dict_MLP = {}\n",
    "for dict_ in MLP_prediction:\n",
    "    for key, value in dict_.items():\n",
    "        df = makeDF(testDF = test_DF, predictionsDF = value)\n",
    "        prediction_df_dict_MLP[key] = df"
   ]
  },
  {
   "cell_type": "code",
   "execution_count": 14,
   "id": "c2b85a08-8cae-492c-81de-7480024b4dfc",
   "metadata": {},
   "outputs": [
    {
     "data": {
      "text/plain": [
       "{'MLP_6':         user_id  item_id  prediction\n",
       " 0        102312   310283    0.524261\n",
       " 1         14157    26349    0.006759\n",
       " 2        113235   312440    0.999730\n",
       " 3        129834    20220    0.721051\n",
       " 4        124700    16483    0.999730\n",
       " ...         ...      ...         ...\n",
       " 324559      811   376698    0.000225\n",
       " 324560   127557   375764    0.998943\n",
       " 324561   127461   376554    0.998566\n",
       " 324562   125860    42605    1.000000\n",
       " 324563   105350    76964    0.999958\n",
       " \n",
       " [324564 rows x 3 columns],\n",
       " 'MLP_1':         user_id  item_id  prediction\n",
       " 0        102312   310283    0.943712\n",
       " 1         14157    26349    0.995195\n",
       " 2        113235   312440    0.529701\n",
       " 3        129834    20220    0.009557\n",
       " 4        124700    16483    0.988418\n",
       " ...         ...      ...         ...\n",
       " 324559      811   376698    0.000047\n",
       " 324560   127557   375764    0.170549\n",
       " 324561   127461   376554    0.965420\n",
       " 324562   125860    42605    0.530712\n",
       " 324563   105350    76964    0.997718\n",
       " \n",
       " [324564 rows x 3 columns],\n",
       " 'MLP_5':         user_id  item_id  prediction\n",
       " 0        102312   310283    0.952468\n",
       " 1         14157    26349    0.451010\n",
       " 2        113235   312440    0.999792\n",
       " 3        129834    20220    0.360056\n",
       " 4        124700    16483    0.987714\n",
       " ...         ...      ...         ...\n",
       " 324559      811   376698    0.000510\n",
       " 324560   127557   375764    1.000000\n",
       " 324561   127461   376554    0.995080\n",
       " 324562   125860    42605    0.999985\n",
       " 324563   105350    76964    0.999944\n",
       " \n",
       " [324564 rows x 3 columns],\n",
       " 'MLP_0':         user_id  item_id  prediction\n",
       " 0        102312   310283    0.962956\n",
       " 1         14157    26349    0.994322\n",
       " 2        113235   312440    0.742920\n",
       " 3        129834    20220    0.070834\n",
       " 4        124700    16483    0.997056\n",
       " ...         ...      ...         ...\n",
       " 324559      811   376698    0.001860\n",
       " 324560   127557   375764    0.171579\n",
       " 324561   127461   376554    0.998531\n",
       " 324562   125860    42605    0.497578\n",
       " 324563   105350    76964    0.997966\n",
       " \n",
       " [324564 rows x 3 columns],\n",
       " 'MLP_2':         user_id  item_id  prediction\n",
       " 0        102312   310283    0.967869\n",
       " 1         14157    26349    0.901231\n",
       " 2        113235   312440    0.865838\n",
       " 3        129834    20220    0.004887\n",
       " 4        124700    16483    0.997563\n",
       " ...         ...      ...         ...\n",
       " 324559      811   376698    0.000023\n",
       " 324560   127557   375764    0.567331\n",
       " 324561   127461   376554    0.988120\n",
       " 324562   125860    42605    0.868326\n",
       " 324563   105350    76964    0.997542\n",
       " \n",
       " [324564 rows x 3 columns],\n",
       " 'MLP_3':         user_id  item_id  prediction\n",
       " 0        102312   310283    0.644457\n",
       " 1         14157    26349    0.997984\n",
       " 2        113235   312440    0.903020\n",
       " 3        129834    20220    0.010829\n",
       " 4        124700    16483    0.993779\n",
       " ...         ...      ...         ...\n",
       " 324559      811   376698    0.000109\n",
       " 324560   127557   375764    0.883302\n",
       " 324561   127461   376554    0.997051\n",
       " 324562   125860    42605    0.624871\n",
       " 324563   105350    76964    0.999694\n",
       " \n",
       " [324564 rows x 3 columns],\n",
       " 'MLP_4':         user_id  item_id  prediction\n",
       " 0        102312   310283    0.795199\n",
       " 1         14157    26349    0.971181\n",
       " 2        113235   312440    0.881106\n",
       " 3        129834    20220    0.945647\n",
       " 4        124700    16483    0.986910\n",
       " ...         ...      ...         ...\n",
       " 324559      811   376698    0.000014\n",
       " 324560   127557   375764    0.999034\n",
       " 324561   127461   376554    0.996751\n",
       " 324562   125860    42605    0.923302\n",
       " 324563   105350    76964    0.995970\n",
       " \n",
       " [324564 rows x 3 columns]}"
      ]
     },
     "execution_count": 14,
     "metadata": {},
     "output_type": "execute_result"
    }
   ],
   "source": [
    "prediction_df_dict_MLP"
   ]
  },
  {
   "cell_type": "code",
   "execution_count": 15,
   "id": "756072b5-4bf0-4874-8147-273c7681d8c2",
   "metadata": {},
   "outputs": [
    {
     "name": "stderr",
     "output_type": "stream",
     "text": [
      "100%|██████████| 3/3 [00:34<00:00, 11.41s/it]\n"
     ]
    }
   ],
   "source": [
    "items = [item for item in prediction_df_dict.items()]\n",
    "HRresultsList = []\n",
    "K = [100, 50, 30]\n",
    "for k in tqdm(K):\n",
    "    HRresults = {}\n",
    "    for tuple_ in items:\n",
    "        name, df = tuple_\n",
    "        HRresults[name] = topk_HR(df, k, 0.85)\n",
    "    HRresultsList.append(HRresults)"
   ]
  },
  {
   "cell_type": "code",
   "execution_count": 17,
   "id": "b861591c-2a9b-4a8c-b93f-50bd42402de5",
   "metadata": {},
   "outputs": [
    {
     "data": {
      "text/plain": [
       "[{'latent_64': 0.4839627208908255,\n",
       "  'latent_8': 0.46499636891793755,\n",
       "  'latent_32': 0.48307673686758656,\n",
       "  'latent_128': 0.4781384652626483,\n",
       "  'latent_16': 0.46528201404018393},\n",
       " {'latent_64': 0.7305833938513677,\n",
       "  'latent_8': 0.7093536673928831,\n",
       "  'latent_32': 0.731358024691358,\n",
       "  'latent_128': 0.7251997095134349,\n",
       "  'latent_16': 0.7102783829581215},\n",
       " {'latent_64': 0.8724683288953442,\n",
       "  'latent_8': 0.8519406116356008,\n",
       "  'latent_32': 0.8737271040103285,\n",
       "  'latent_128': 0.8672476397966595,\n",
       "  'latent_16': 0.8525942064068426}]"
      ]
     },
     "execution_count": 17,
     "metadata": {},
     "output_type": "execute_result"
    }
   ],
   "source": [
    "HRresultsList"
   ]
  },
  {
   "cell_type": "code",
   "execution_count": null,
   "id": "84ec60b7-962a-4097-8bb6-93ebc343b816",
   "metadata": {},
   "outputs": [],
   "source": []
  },
  {
   "cell_type": "code",
   "execution_count": 18,
   "id": "f73c41dc-79c6-4213-bf2c-351b875dc844",
   "metadata": {},
   "outputs": [],
   "source": [
    "NDCGresultsList = []\n",
    "\n",
    "K = [100, 50, 30]\n",
    "for k in K:\n",
    "    NDCGresults = {}\n",
    "    for tuple_ in items:\n",
    "        name, df = tuple_\n",
    "        NDCGresults[name] = average_ndcg(df, k, 0.9)\n",
    "    NDCGresultsList.append(NDCGresults)"
   ]
  },
  {
   "cell_type": "code",
   "execution_count": 19,
   "id": "b061f07b-99da-4d9b-9c7a-bdedecf6a61d",
   "metadata": {},
   "outputs": [
    {
     "data": {
      "text/plain": [
       "[{'latent_64': 0.8158600058309982,\n",
       "  'latent_8': 0.7935190201682871,\n",
       "  'latent_32': 0.8169369465667539,\n",
       "  'latent_128': 0.8094513682786527,\n",
       "  'latent_16': 0.7953230155711449},\n",
       " {'latent_64': 0.7523914473969932,\n",
       "  'latent_8': 0.7262132845181416,\n",
       "  'latent_32': 0.75235888614983,\n",
       "  'latent_128': 0.7439513414115477,\n",
       "  'latent_16': 0.7282019633828979},\n",
       " {'latent_64': 0.7031542318558774,\n",
       "  'latent_8': 0.6737674583358431,\n",
       "  'latent_32': 0.7028313136656246,\n",
       "  'latent_128': 0.6937876527581182,\n",
       "  'latent_16': 0.6766183422218103}]"
      ]
     },
     "execution_count": 19,
     "metadata": {},
     "output_type": "execute_result"
    }
   ],
   "source": [
    "NDCGresultsList"
   ]
  }
 ],
 "metadata": {
  "environment": {
   "kernel": "python3",
   "name": "tf2-gpu.2-6.m104",
   "type": "gcloud",
   "uri": "gcr.io/deeplearning-platform-release/tf2-gpu.2-6:m104"
  },
  "kernelspec": {
   "display_name": "Python 3 (ipykernel)",
   "language": "python",
   "name": "python3"
  },
  "language_info": {
   "codemirror_mode": {
    "name": "ipython",
    "version": 3
   },
   "file_extension": ".py",
   "mimetype": "text/x-python",
   "name": "python",
   "nbconvert_exporter": "python",
   "pygments_lexer": "ipython3",
   "version": "3.7.12"
  }
 },
 "nbformat": 4,
 "nbformat_minor": 5
}
